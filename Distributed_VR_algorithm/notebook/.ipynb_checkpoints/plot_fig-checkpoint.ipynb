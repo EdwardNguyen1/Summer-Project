{
 "cells": [
  {
   "cell_type": "code",
   "execution_count": 157,
   "metadata": {
    "collapsed": false
   },
   "outputs": [
    {
     "name": "stdout",
     "output_type": "stream",
     "text": [
      "The autoreload extension is already loaded. To reload it, use:\n",
      "  %reload_ext autoreload\n"
     ]
    }
   ],
   "source": [
    "%load_ext autoreload\n",
    "%autoreload 2"
   ]
  },
  {
   "cell_type": "code",
   "execution_count": 168,
   "metadata": {
    "collapsed": true
   },
   "outputs": [],
   "source": [
    "import numpy as np\n",
    "import matplotlib.pyplot as plt\n",
    "from sklearn.linear_model import LogisticRegression\n",
    "\n",
    "from VR_algorithm import VR_algorithm\n",
    "from cost_func import *\n",
    "from read_data import *"
   ]
  },
  {
   "cell_type": "code",
   "execution_count": 193,
   "metadata": {
    "collapsed": true
   },
   "outputs": [],
   "source": [
    "import matplotlib.pyplot as plt\n",
    "%matplotlib inline"
   ]
  },
  {
   "cell_type": "code",
   "execution_count": 159,
   "metadata": {
    "collapsed": false
   },
   "outputs": [
    {
     "name": "stdout",
     "output_type": "stream",
     "text": [
      "Extracting /Users/kunyuan/Documents/Github/dist_avrg/Distributed_VR_algorithm/C:/Users/biche/OneDrive/Documents/Python Scripts/random_reshuffle/MNIST_data/train-images-idx3-ubyte.gz\n",
      "Extracting /Users/kunyuan/Documents/Github/dist_avrg/Distributed_VR_algorithm/C:/Users/biche/OneDrive/Documents/Python Scripts/random_reshuffle/MNIST_data/train-labels-idx1-ubyte.gz\n",
      "Extracting /Users/kunyuan/Documents/Github/dist_avrg/Distributed_VR_algorithm/C:/Users/biche/OneDrive/Documents/Python Scripts/random_reshuffle/MNIST_data/t10k-images-idx3-ubyte.gz\n",
      "Extracting /Users/kunyuan/Documents/Github/dist_avrg/Distributed_VR_algorithm/C:/Users/biche/OneDrive/Documents/Python Scripts/random_reshuffle/MNIST_data/t10k-labels-idx1-ubyte.gz\n",
      "Extracting /Users/kunyuan/Documents/Github/dist_avrg/Distributed_VR_algorithm/C:/Users/biche/OneDrive/Documents/Python Scripts/random_reshuffle/MNIST_data/train-images-idx3-ubyte.gz\n",
      "Extracting /Users/kunyuan/Documents/Github/dist_avrg/Distributed_VR_algorithm/C:/Users/biche/OneDrive/Documents/Python Scripts/random_reshuffle/MNIST_data/train-labels-idx1-ubyte.gz\n",
      "Extracting /Users/kunyuan/Documents/Github/dist_avrg/Distributed_VR_algorithm/C:/Users/biche/OneDrive/Documents/Python Scripts/random_reshuffle/MNIST_data/t10k-images-idx3-ubyte.gz\n",
      "Extracting /Users/kunyuan/Documents/Github/dist_avrg/Distributed_VR_algorithm/C:/Users/biche/OneDrive/Documents/Python Scripts/random_reshuffle/MNIST_data/t10k-labels-idx1-ubyte.gz\n"
     ]
    }
   ],
   "source": [
    "X, Y = read_mnist(datatype = 'multiclass')"
   ]
  },
  {
   "cell_type": "code",
   "execution_count": 162,
   "metadata": {
    "collapsed": false
   },
   "outputs": [],
   "source": [
    "N = X.shape[0]\n",
    "D = X.shape[1]\n",
    "C = Y.shape[1]\n",
    "\n",
    "N_train_percentage = 0.6\n",
    "N_train = int(N * N_train_percentage)\n",
    "X_train, Y_train = X[0:N_train, :], Y[0:N_train, :]\n",
    "X_test, Y_test = X[N_train:N+1, :], Y[N_train:N+1, :]"
   ]
  },
  {
   "cell_type": "code",
   "execution_count": 164,
   "metadata": {
    "collapsed": false
   },
   "outputs": [
    {
     "name": "stdout",
     "output_type": "stream",
     "text": [
      "(16822, 784) (16822, 10)\n",
      "(11216, 784) (11216, 10)\n"
     ]
    }
   ],
   "source": [
    "print X_train.shape, Y_train.shape\n",
    "print X_test.shape, Y_test.shape"
   ]
  },
  {
   "cell_type": "markdown",
   "metadata": {},
   "source": [
    "# solve the softmax problem with GD"
   ]
  },
  {
   "cell_type": "code",
   "execution_count": 169,
   "metadata": {
    "collapsed": true
   },
   "outputs": [],
   "source": [
    "sm = soft_max(X_train, Y_train)"
   ]
  },
  {
   "cell_type": "code",
   "execution_count": 185,
   "metadata": {
    "collapsed": false
   },
   "outputs": [
    {
     "name": "stdout",
     "output_type": "stream",
     "text": [
      "('iteration:', 0)\n",
      "('iteration:', 100)\n",
      "('iteration:', 200)\n",
      "('iteration:', 300)\n",
      "('iteration:', 400)\n"
     ]
    }
   ],
   "source": [
    "w_star = sm.GD(maxite=500, mu = 1)"
   ]
  },
  {
   "cell_type": "code",
   "execution_count": 186,
   "metadata": {
    "collapsed": false
   },
   "outputs": [
    {
     "name": "stdout",
     "output_type": "stream",
     "text": [
      "83.7477703485\n"
     ]
    }
   ],
   "source": [
    "print np.sum(w_star * w_star)"
   ]
  },
  {
   "cell_type": "code",
   "execution_count": 187,
   "metadata": {
    "collapsed": true
   },
   "outputs": [],
   "source": [
    "params= {'using_sgd': 1, 'epoch_per_FG': 2, 'minibatch': 1}"
   ]
  },
  {
   "cell_type": "code",
   "execution_count": 188,
   "metadata": {
    "collapsed": true
   },
   "outputs": [],
   "source": [
    "N_epoch = 20"
   ]
  },
  {
   "cell_type": "code",
   "execution_count": 191,
   "metadata": {
    "collapsed": false
   },
   "outputs": [],
   "source": [
    "svrg = VR_algorithm(X_train, Y_train , w_star, soft_max, rho = 0.01)\n",
    "MSD, ER = svrg.train(N_epoch=N_epoch, mu=1.0, method='SVRG', replace = True, **params)"
   ]
  },
  {
   "cell_type": "code",
   "execution_count": 213,
   "metadata": {
    "collapsed": false
   },
   "outputs": [
    {
     "name": "stdout",
     "output_type": "stream",
     "text": [
      "[0.1482696259447753, 0.067989384407672826, 0.0069744612725219472, 0.0041957665231647989, 0.000141959353261197, 0.00017141029132621428, 1.0750492611393348e-05, 1.1881347901846329e-05, 6.6562476310727245e-07, 1.1096633553845024e-06, 3.4312559578467287e-08, 6.7525666482161208e-08, 8.9101220396531005e-09, 2.6620426756654028e-09, 7.2944981637019385e-11, 6.3350995111678487e-11, 2.3661542161244433e-12, 1.4842409872045042e-12, 8.6463228398604654e-14, 6.7383687057160367e-14]\n"
     ]
    }
   ],
   "source": [
    "print svrg.MSD"
   ]
  },
  {
   "cell_type": "code",
   "execution_count": 205,
   "metadata": {
    "collapsed": false
   },
   "outputs": [
    {
     "name": "stdout",
     "output_type": "stream",
     "text": [
      "[  2.5   5.    7.5  10.   12.5  15.   17.5  20.   22.5  25.   27.5  30.\n",
      "  32.5  35.   37.5  40.   42.5  45.   47.5  50. ]\n"
     ]
    }
   ],
   "source": [
    "print np.arange(N_epoch)*2.5+2.5"
   ]
  },
  {
   "cell_type": "code",
   "execution_count": 214,
   "metadata": {
    "collapsed": false
   },
   "outputs": [
    {
     "data": {
      "text/plain": [
       "[<matplotlib.lines.Line2D at 0x11875d950>]"
      ]
     },
     "execution_count": 214,
     "metadata": {},
     "output_type": "execute_result"
    },
    {
     "data": {
      "image/png": "[encoded data removed]",
      "text/plain": [
       "<matplotlib.figure.Figure at 0x1185c5a90>"
      ]
     },
     "metadata": {},
     "output_type": "display_data"
    }
   ],
   "source": [
    "plt.semilogy(np.arange(N_epoch)*2.5+2.5,np.array(svrg.MSD),'ks-',lw=1.5)"
   ]
  },
  {
   "cell_type": "code",
   "execution_count": 219,
   "metadata": {
    "collapsed": false
   },
   "outputs": [],
   "source": [
    "avrg = VR_algorithm(X_train, Y_train , w_star, soft_max, rho = 0.01)\n",
    "MSD, ER = avrg.train(N_epoch=N_epoch, mu=.5, method='AVRG', replace = False, **params)"
   ]
  },
  {
   "cell_type": "code",
   "execution_count": 220,
   "metadata": {
    "collapsed": false
   },
   "outputs": [
    {
     "data": {
      "text/plain": [
       "[<matplotlib.lines.Line2D at 0x118835ad0>]"
      ]
     },
     "execution_count": 220,
     "metadata": {},
     "output_type": "execute_result"
    },
    {
     "data": {
      "image/png": "[encoded data removed]",
      "text/plain": [
       "<matplotlib.figure.Figure at 0x11883f990>"
      ]
     },
     "metadata": {},
     "output_type": "display_data"
    }
   ],
   "source": [
    "plt.semilogy(np.arange(N_epoch)*2+2,avrg.MSD,'b^-',lw=1.5)"
   ]
  },
  {
   "cell_type": "code",
   "execution_count": null,
   "metadata": {
    "collapsed": true
   },
   "outputs": [],
   "source": []
  }
 ],
 "metadata": {
  "anaconda-cloud": {},
  "kernelspec": {
   "display_name": "Python [conda root]",
   "language": "python",
   "name": "conda-root-py"
  },
  "language_info": {
   "codemirror_mode": {
    "name": "ipython",
    "version": 3
   },
   "file_extension": ".py",
   "mimetype": "text/x-python",
   "name": "python",
   "nbconvert_exporter": "python",
   "pygments_lexer": "ipython3",
   "version": "3.5.2"
  }
 },
 "nbformat": 4,
 "nbformat_minor": 0
}
